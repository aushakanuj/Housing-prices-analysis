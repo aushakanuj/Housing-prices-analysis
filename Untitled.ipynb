{
 "cells": [
  {
   "cell_type": "code",
   "execution_count": 1,
   "metadata": {},
   "outputs": [],
   "source": [
    "import pandas as pd"
   ]
  },
  {
   "cell_type": "code",
   "execution_count": 2,
   "metadata": {},
   "outputs": [],
   "source": [
    "df=pd.read_excel(\"lol.xlsx\")"
   ]
  },
  {
   "cell_type": "code",
   "execution_count": 3,
   "metadata": {},
   "outputs": [
    {
     "data": {
      "text/html": [
       "<div>\n",
       "<style scoped>\n",
       "    .dataframe tbody tr th:only-of-type {\n",
       "        vertical-align: middle;\n",
       "    }\n",
       "\n",
       "    .dataframe tbody tr th {\n",
       "        vertical-align: top;\n",
       "    }\n",
       "\n",
       "    .dataframe thead th {\n",
       "        text-align: right;\n",
       "    }\n",
       "</style>\n",
       "<table border=\"1\" class=\"dataframe\">\n",
       "  <thead>\n",
       "    <tr style=\"text-align: right;\">\n",
       "      <th></th>\n",
       "      <th>Programme</th>\n",
       "      <th>Register No\\t</th>\n",
       "      <th>Name</th>\n",
       "      <th>School</th>\n",
       "      <th>Course Mode</th>\n",
       "      <th>Course Registered Status</th>\n",
       "      <th>Email</th>\n",
       "      <th>Mob No</th>\n",
       "      <th>Registered TimeStamp</th>\n",
       "      <th>Attendance Date</th>\n",
       "    </tr>\n",
       "  </thead>\n",
       "  <tbody>\n",
       "    <tr>\n",
       "      <th>0</th>\n",
       "      <td>BCE</td>\n",
       "      <td>14BCE0650</td>\n",
       "      <td>AISHWARY UPADHYAY</td>\n",
       "      <td>SCOPE</td>\n",
       "      <td>Course Substitution</td>\n",
       "      <td>Registered and Approved</td>\n",
       "      <td>aishwary.upadhyay2014@vit.ac.in</td>\n",
       "      <td>9944200115</td>\n",
       "      <td>11-Aug-2017 14:10</td>\n",
       "      <td>11-Aug-2017</td>\n",
       "    </tr>\n",
       "    <tr>\n",
       "      <th>1</th>\n",
       "      <td>BCL</td>\n",
       "      <td>14BCL0082</td>\n",
       "      <td>PRANAV SATISH</td>\n",
       "      <td>SCE</td>\n",
       "      <td>Regular</td>\n",
       "      <td>Registered and Approved</td>\n",
       "      <td>pranav.satish2014@vit.ac.in</td>\n",
       "      <td>9710413496</td>\n",
       "      <td>11-Aug-2017 10:23</td>\n",
       "      <td>11-Aug-2017</td>\n",
       "    </tr>\n",
       "    <tr>\n",
       "      <th>2</th>\n",
       "      <td>BME</td>\n",
       "      <td>14BME0683</td>\n",
       "      <td>ADITYA RAM SAI CHEKURI</td>\n",
       "      <td>SMEC</td>\n",
       "      <td>Regular</td>\n",
       "      <td>Registered and Approved</td>\n",
       "      <td>adityaram.saichekuri2014@vit.ac.in</td>\n",
       "      <td>9943633379</td>\n",
       "      <td>11-Aug-2017 13:47</td>\n",
       "      <td>11-Aug-2017</td>\n",
       "    </tr>\n",
       "    <tr>\n",
       "      <th>3</th>\n",
       "      <td>BME</td>\n",
       "      <td>14BME0878</td>\n",
       "      <td>DEVARAAJ C</td>\n",
       "      <td>SMEC</td>\n",
       "      <td>Regular</td>\n",
       "      <td>Registered and Approved</td>\n",
       "      <td>c.devaraaj2014@vit.ac.in</td>\n",
       "      <td>7299333731</td>\n",
       "      <td>11-Aug-2017 11:31</td>\n",
       "      <td>11-Aug-2017</td>\n",
       "    </tr>\n",
       "    <tr>\n",
       "      <th>4</th>\n",
       "      <td>MSI</td>\n",
       "      <td>14MSI0067</td>\n",
       "      <td>ANIRBAN PANJA</td>\n",
       "      <td>SBST</td>\n",
       "      <td>Regular</td>\n",
       "      <td>Registered and Approved</td>\n",
       "      <td>anirban.panja2014@vit.ac.in</td>\n",
       "      <td>9038221814</td>\n",
       "      <td>11-Aug-2017 16:23</td>\n",
       "      <td>11-Aug-2017</td>\n",
       "    </tr>\n",
       "  </tbody>\n",
       "</table>\n",
       "</div>"
      ],
      "text/plain": [
       "  Programme Register No\\t                    Name School          Course Mode  \\\n",
       "0       BCE     14BCE0650       AISHWARY UPADHYAY  SCOPE  Course Substitution   \n",
       "1       BCL     14BCL0082           PRANAV SATISH    SCE              Regular   \n",
       "2       BME     14BME0683  ADITYA RAM SAI CHEKURI   SMEC              Regular   \n",
       "3       BME     14BME0878              DEVARAAJ C   SMEC              Regular   \n",
       "4       MSI     14MSI0067           ANIRBAN PANJA   SBST              Regular   \n",
       "\n",
       "  Course Registered Status                               Email      Mob No  \\\n",
       "0  Registered and Approved     aishwary.upadhyay2014@vit.ac.in  9944200115   \n",
       "1  Registered and Approved         pranav.satish2014@vit.ac.in  9710413496   \n",
       "2  Registered and Approved  adityaram.saichekuri2014@vit.ac.in  9943633379   \n",
       "3  Registered and Approved            c.devaraaj2014@vit.ac.in  7299333731   \n",
       "4  Registered and Approved         anirban.panja2014@vit.ac.in  9038221814   \n",
       "\n",
       "  Registered TimeStamp Attendance Date  \n",
       "0    11-Aug-2017 14:10     11-Aug-2017  \n",
       "1    11-Aug-2017 10:23     11-Aug-2017  \n",
       "2    11-Aug-2017 13:47     11-Aug-2017  \n",
       "3    11-Aug-2017 11:31     11-Aug-2017  \n",
       "4    11-Aug-2017 16:23     11-Aug-2017  "
      ]
     },
     "execution_count": 3,
     "metadata": {},
     "output_type": "execute_result"
    }
   ],
   "source": [
    "df.head()"
   ]
  },
  {
   "cell_type": "code",
   "execution_count": 4,
   "metadata": {},
   "outputs": [
    {
     "name": "stdout",
     "output_type": "stream",
     "text": [
      "<class 'pandas.core.frame.DataFrame'>\n",
      "RangeIndex: 99 entries, 0 to 98\n",
      "Data columns (total 10 columns):\n",
      " #   Column                    Non-Null Count  Dtype \n",
      "---  ------                    --------------  ----- \n",
      " 0   Programme                 99 non-null     object\n",
      " 1   Register No\t              99 non-null     object\n",
      " 2   Name                      99 non-null     object\n",
      " 3   School                    99 non-null     object\n",
      " 4   Course Mode               99 non-null     object\n",
      " 5   Course Registered Status  99 non-null     object\n",
      " 6   Email                     99 non-null     object\n",
      " 7   Mob No                    99 non-null     int64 \n",
      " 8   Registered TimeStamp      99 non-null     object\n",
      " 9   Attendance Date           99 non-null     object\n",
      "dtypes: int64(1), object(9)\n",
      "memory usage: 7.9+ KB\n"
     ]
    }
   ],
   "source": [
    "df.info()"
   ]
  },
  {
   "cell_type": "code",
   "execution_count": 5,
   "metadata": {},
   "outputs": [],
   "source": [
    "df[\"Registered TimeStamp\"]=pd.to_datetime(df[\"Registered TimeStamp\"])"
   ]
  },
  {
   "cell_type": "code",
   "execution_count": 6,
   "metadata": {},
   "outputs": [
    {
     "name": "stdout",
     "output_type": "stream",
     "text": [
      "<class 'pandas.core.frame.DataFrame'>\n",
      "RangeIndex: 99 entries, 0 to 98\n",
      "Data columns (total 10 columns):\n",
      " #   Column                    Non-Null Count  Dtype         \n",
      "---  ------                    --------------  -----         \n",
      " 0   Programme                 99 non-null     object        \n",
      " 1   Register No\t              99 non-null     object        \n",
      " 2   Name                      99 non-null     object        \n",
      " 3   School                    99 non-null     object        \n",
      " 4   Course Mode               99 non-null     object        \n",
      " 5   Course Registered Status  99 non-null     object        \n",
      " 6   Email                     99 non-null     object        \n",
      " 7   Mob No                    99 non-null     int64         \n",
      " 8   Registered TimeStamp      99 non-null     datetime64[ns]\n",
      " 9   Attendance Date           99 non-null     object        \n",
      "dtypes: datetime64[ns](1), int64(1), object(8)\n",
      "memory usage: 7.9+ KB\n"
     ]
    }
   ],
   "source": [
    "df.info()"
   ]
  },
  {
   "cell_type": "code",
   "execution_count": 7,
   "metadata": {},
   "outputs": [
    {
     "data": {
      "text/plain": [
       "0    2017-08-11 14:10:00\n",
       "1    2017-08-11 10:23:00\n",
       "2    2017-08-11 13:47:00\n",
       "3    2017-08-11 11:31:00\n",
       "4    2017-08-11 16:23:00\n",
       "             ...        \n",
       "94   2017-08-11 14:38:00\n",
       "95   2017-08-11 14:02:00\n",
       "96   2017-08-11 14:50:00\n",
       "97   2017-08-11 14:08:00\n",
       "98   2017-08-11 14:03:00\n",
       "Name: Registered TimeStamp, Length: 99, dtype: datetime64[ns]"
      ]
     },
     "execution_count": 7,
     "metadata": {},
     "output_type": "execute_result"
    }
   ],
   "source": [
    "df[\"Registered TimeStamp\"]"
   ]
  },
  {
   "cell_type": "code",
   "execution_count": null,
   "metadata": {},
   "outputs": [],
   "source": []
  },
  {
   "cell_type": "code",
   "execution_count": 8,
   "metadata": {},
   "outputs": [
    {
     "data": {
      "text/html": [
       "<div>\n",
       "<style scoped>\n",
       "    .dataframe tbody tr th:only-of-type {\n",
       "        vertical-align: middle;\n",
       "    }\n",
       "\n",
       "    .dataframe tbody tr th {\n",
       "        vertical-align: top;\n",
       "    }\n",
       "\n",
       "    .dataframe thead th {\n",
       "        text-align: right;\n",
       "    }\n",
       "</style>\n",
       "<table border=\"1\" class=\"dataframe\">\n",
       "  <thead>\n",
       "    <tr style=\"text-align: right;\">\n",
       "      <th></th>\n",
       "      <th>Programme</th>\n",
       "      <th>Register No\\t</th>\n",
       "      <th>Name</th>\n",
       "      <th>School</th>\n",
       "      <th>Course Mode</th>\n",
       "      <th>Course Registered Status</th>\n",
       "      <th>Email</th>\n",
       "      <th>Mob No</th>\n",
       "      <th>Registered TimeStamp</th>\n",
       "      <th>Attendance Date</th>\n",
       "    </tr>\n",
       "  </thead>\n",
       "  <tbody>\n",
       "    <tr>\n",
       "      <th>0</th>\n",
       "      <td>BCE</td>\n",
       "      <td>14BCE0650</td>\n",
       "      <td>AISHWARY UPADHYAY</td>\n",
       "      <td>SCOPE</td>\n",
       "      <td>Course Substitution</td>\n",
       "      <td>Registered and Approved</td>\n",
       "      <td>aishwary.upadhyay2014@vit.ac.in</td>\n",
       "      <td>9944200115</td>\n",
       "      <td>2017-08-11 14:10:00</td>\n",
       "      <td>11-Aug-2017</td>\n",
       "    </tr>\n",
       "    <tr>\n",
       "      <th>1</th>\n",
       "      <td>BCL</td>\n",
       "      <td>14BCL0082</td>\n",
       "      <td>PRANAV SATISH</td>\n",
       "      <td>SCE</td>\n",
       "      <td>Regular</td>\n",
       "      <td>Registered and Approved</td>\n",
       "      <td>pranav.satish2014@vit.ac.in</td>\n",
       "      <td>9710413496</td>\n",
       "      <td>2017-08-11 10:23:00</td>\n",
       "      <td>11-Aug-2017</td>\n",
       "    </tr>\n",
       "    <tr>\n",
       "      <th>2</th>\n",
       "      <td>BME</td>\n",
       "      <td>14BME0683</td>\n",
       "      <td>ADITYA RAM SAI CHEKURI</td>\n",
       "      <td>SMEC</td>\n",
       "      <td>Regular</td>\n",
       "      <td>Registered and Approved</td>\n",
       "      <td>adityaram.saichekuri2014@vit.ac.in</td>\n",
       "      <td>9943633379</td>\n",
       "      <td>2017-08-11 13:47:00</td>\n",
       "      <td>11-Aug-2017</td>\n",
       "    </tr>\n",
       "    <tr>\n",
       "      <th>3</th>\n",
       "      <td>BME</td>\n",
       "      <td>14BME0878</td>\n",
       "      <td>DEVARAAJ C</td>\n",
       "      <td>SMEC</td>\n",
       "      <td>Regular</td>\n",
       "      <td>Registered and Approved</td>\n",
       "      <td>c.devaraaj2014@vit.ac.in</td>\n",
       "      <td>7299333731</td>\n",
       "      <td>2017-08-11 11:31:00</td>\n",
       "      <td>11-Aug-2017</td>\n",
       "    </tr>\n",
       "    <tr>\n",
       "      <th>4</th>\n",
       "      <td>MSI</td>\n",
       "      <td>14MSI0067</td>\n",
       "      <td>ANIRBAN PANJA</td>\n",
       "      <td>SBST</td>\n",
       "      <td>Regular</td>\n",
       "      <td>Registered and Approved</td>\n",
       "      <td>anirban.panja2014@vit.ac.in</td>\n",
       "      <td>9038221814</td>\n",
       "      <td>2017-08-11 16:23:00</td>\n",
       "      <td>11-Aug-2017</td>\n",
       "    </tr>\n",
       "  </tbody>\n",
       "</table>\n",
       "</div>"
      ],
      "text/plain": [
       "  Programme Register No\\t                    Name School          Course Mode  \\\n",
       "0       BCE     14BCE0650       AISHWARY UPADHYAY  SCOPE  Course Substitution   \n",
       "1       BCL     14BCL0082           PRANAV SATISH    SCE              Regular   \n",
       "2       BME     14BME0683  ADITYA RAM SAI CHEKURI   SMEC              Regular   \n",
       "3       BME     14BME0878              DEVARAAJ C   SMEC              Regular   \n",
       "4       MSI     14MSI0067           ANIRBAN PANJA   SBST              Regular   \n",
       "\n",
       "  Course Registered Status                               Email      Mob No  \\\n",
       "0  Registered and Approved     aishwary.upadhyay2014@vit.ac.in  9944200115   \n",
       "1  Registered and Approved         pranav.satish2014@vit.ac.in  9710413496   \n",
       "2  Registered and Approved  adityaram.saichekuri2014@vit.ac.in  9943633379   \n",
       "3  Registered and Approved            c.devaraaj2014@vit.ac.in  7299333731   \n",
       "4  Registered and Approved         anirban.panja2014@vit.ac.in  9038221814   \n",
       "\n",
       "  Registered TimeStamp Attendance Date  \n",
       "0  2017-08-11 14:10:00     11-Aug-2017  \n",
       "1  2017-08-11 10:23:00     11-Aug-2017  \n",
       "2  2017-08-11 13:47:00     11-Aug-2017  \n",
       "3  2017-08-11 11:31:00     11-Aug-2017  \n",
       "4  2017-08-11 16:23:00     11-Aug-2017  "
      ]
     },
     "execution_count": 8,
     "metadata": {},
     "output_type": "execute_result"
    }
   ],
   "source": [
    "df.head()"
   ]
  },
  {
   "cell_type": "code",
   "execution_count": 9,
   "metadata": {},
   "outputs": [
    {
     "data": {
      "text/plain": [
       "Timestamp('2017-08-11 16:23:00')"
      ]
     },
     "execution_count": 9,
     "metadata": {},
     "output_type": "execute_result"
    }
   ],
   "source": [
    "df[\"Registered TimeStamp\"].max()"
   ]
  },
  {
   "cell_type": "code",
   "execution_count": 10,
   "metadata": {},
   "outputs": [],
   "source": [
    "df.rename(columns={\"Registered TimeStamp\":\"date\"},inplace=True)"
   ]
  },
  {
   "cell_type": "code",
   "execution_count": 11,
   "metadata": {},
   "outputs": [
    {
     "data": {
      "text/html": [
       "<div>\n",
       "<style scoped>\n",
       "    .dataframe tbody tr th:only-of-type {\n",
       "        vertical-align: middle;\n",
       "    }\n",
       "\n",
       "    .dataframe tbody tr th {\n",
       "        vertical-align: top;\n",
       "    }\n",
       "\n",
       "    .dataframe thead th {\n",
       "        text-align: right;\n",
       "    }\n",
       "</style>\n",
       "<table border=\"1\" class=\"dataframe\">\n",
       "  <thead>\n",
       "    <tr style=\"text-align: right;\">\n",
       "      <th></th>\n",
       "      <th>Programme</th>\n",
       "      <th>Register No\\t</th>\n",
       "      <th>Name</th>\n",
       "      <th>School</th>\n",
       "      <th>Course Mode</th>\n",
       "      <th>Course Registered Status</th>\n",
       "      <th>Email</th>\n",
       "      <th>Mob No</th>\n",
       "      <th>date</th>\n",
       "      <th>Attendance Date</th>\n",
       "    </tr>\n",
       "  </thead>\n",
       "  <tbody>\n",
       "    <tr>\n",
       "      <th>0</th>\n",
       "      <td>BCE</td>\n",
       "      <td>14BCE0650</td>\n",
       "      <td>AISHWARY UPADHYAY</td>\n",
       "      <td>SCOPE</td>\n",
       "      <td>Course Substitution</td>\n",
       "      <td>Registered and Approved</td>\n",
       "      <td>aishwary.upadhyay2014@vit.ac.in</td>\n",
       "      <td>9944200115</td>\n",
       "      <td>2017-08-11 14:10:00</td>\n",
       "      <td>11-Aug-2017</td>\n",
       "    </tr>\n",
       "    <tr>\n",
       "      <th>1</th>\n",
       "      <td>BCL</td>\n",
       "      <td>14BCL0082</td>\n",
       "      <td>PRANAV SATISH</td>\n",
       "      <td>SCE</td>\n",
       "      <td>Regular</td>\n",
       "      <td>Registered and Approved</td>\n",
       "      <td>pranav.satish2014@vit.ac.in</td>\n",
       "      <td>9710413496</td>\n",
       "      <td>2017-08-11 10:23:00</td>\n",
       "      <td>11-Aug-2017</td>\n",
       "    </tr>\n",
       "    <tr>\n",
       "      <th>2</th>\n",
       "      <td>BME</td>\n",
       "      <td>14BME0683</td>\n",
       "      <td>ADITYA RAM SAI CHEKURI</td>\n",
       "      <td>SMEC</td>\n",
       "      <td>Regular</td>\n",
       "      <td>Registered and Approved</td>\n",
       "      <td>adityaram.saichekuri2014@vit.ac.in</td>\n",
       "      <td>9943633379</td>\n",
       "      <td>2017-08-11 13:47:00</td>\n",
       "      <td>11-Aug-2017</td>\n",
       "    </tr>\n",
       "    <tr>\n",
       "      <th>3</th>\n",
       "      <td>BME</td>\n",
       "      <td>14BME0878</td>\n",
       "      <td>DEVARAAJ C</td>\n",
       "      <td>SMEC</td>\n",
       "      <td>Regular</td>\n",
       "      <td>Registered and Approved</td>\n",
       "      <td>c.devaraaj2014@vit.ac.in</td>\n",
       "      <td>7299333731</td>\n",
       "      <td>2017-08-11 11:31:00</td>\n",
       "      <td>11-Aug-2017</td>\n",
       "    </tr>\n",
       "    <tr>\n",
       "      <th>4</th>\n",
       "      <td>MSI</td>\n",
       "      <td>14MSI0067</td>\n",
       "      <td>ANIRBAN PANJA</td>\n",
       "      <td>SBST</td>\n",
       "      <td>Regular</td>\n",
       "      <td>Registered and Approved</td>\n",
       "      <td>anirban.panja2014@vit.ac.in</td>\n",
       "      <td>9038221814</td>\n",
       "      <td>2017-08-11 16:23:00</td>\n",
       "      <td>11-Aug-2017</td>\n",
       "    </tr>\n",
       "  </tbody>\n",
       "</table>\n",
       "</div>"
      ],
      "text/plain": [
       "  Programme Register No\\t                    Name School          Course Mode  \\\n",
       "0       BCE     14BCE0650       AISHWARY UPADHYAY  SCOPE  Course Substitution   \n",
       "1       BCL     14BCL0082           PRANAV SATISH    SCE              Regular   \n",
       "2       BME     14BME0683  ADITYA RAM SAI CHEKURI   SMEC              Regular   \n",
       "3       BME     14BME0878              DEVARAAJ C   SMEC              Regular   \n",
       "4       MSI     14MSI0067           ANIRBAN PANJA   SBST              Regular   \n",
       "\n",
       "  Course Registered Status                               Email      Mob No  \\\n",
       "0  Registered and Approved     aishwary.upadhyay2014@vit.ac.in  9944200115   \n",
       "1  Registered and Approved         pranav.satish2014@vit.ac.in  9710413496   \n",
       "2  Registered and Approved  adityaram.saichekuri2014@vit.ac.in  9943633379   \n",
       "3  Registered and Approved            c.devaraaj2014@vit.ac.in  7299333731   \n",
       "4  Registered and Approved         anirban.panja2014@vit.ac.in  9038221814   \n",
       "\n",
       "                 date Attendance Date  \n",
       "0 2017-08-11 14:10:00     11-Aug-2017  \n",
       "1 2017-08-11 10:23:00     11-Aug-2017  \n",
       "2 2017-08-11 13:47:00     11-Aug-2017  \n",
       "3 2017-08-11 11:31:00     11-Aug-2017  \n",
       "4 2017-08-11 16:23:00     11-Aug-2017  "
      ]
     },
     "execution_count": 11,
     "metadata": {},
     "output_type": "execute_result"
    }
   ],
   "source": [
    "df.head()"
   ]
  },
  {
   "cell_type": "code",
   "execution_count": 12,
   "metadata": {},
   "outputs": [],
   "source": [
    "year = df[\"date\"].dt.strftime(\"%Y\")"
   ]
  },
  {
   "cell_type": "code",
   "execution_count": 13,
   "metadata": {},
   "outputs": [
    {
     "ename": "SyntaxError",
     "evalue": "invalid syntax (<ipython-input-13-6c6641026291>, line 1)",
     "output_type": "error",
     "traceback": [
      "\u001b[0;36m  File \u001b[0;32m\"<ipython-input-13-6c6641026291>\"\u001b[0;36m, line \u001b[0;32m1\u001b[0m\n\u001b[0;31m    year.value_counts()d\u001b[0m\n\u001b[0m                       ^\u001b[0m\n\u001b[0;31mSyntaxError\u001b[0m\u001b[0;31m:\u001b[0m invalid syntax\n"
     ]
    }
   ],
   "source": [
    "year.value_counts()d"
   ]
  },
  {
   "cell_type": "code",
   "execution_count": null,
   "metadata": {},
   "outputs": [],
   "source": [
    "df[df[\"date\"]>\"2017-08-11 14:00:00\"]"
   ]
  },
  {
   "cell_type": "code",
   "execution_count": null,
   "metadata": {},
   "outputs": [],
   "source": [
    "a=[[0]*10 for i in range(10)]"
   ]
  },
  {
   "cell_type": "code",
   "execution_count": null,
   "metadata": {},
   "outputs": [],
   "source": [
    "a[1][2]=23"
   ]
  },
  {
   "cell_type": "code",
   "execution_count": null,
   "metadata": {},
   "outputs": [],
   "source": [
    "a"
   ]
  },
  {
   "cell_type": "code",
   "execution_count": null,
   "metadata": {},
   "outputs": [],
   "source": [
    "def minnode(n, keyval, mstset): \n",
    "\n",
    "    mini = 999999999999\n",
    "    mini_index = None\n",
    "    for i in range(n): \n",
    "\n",
    "        if (mstset[i] == False and \n",
    "            keyval[i] < mini):  \n",
    "            mini = keyval[i] \n",
    "            mini_index = i \n",
    "\n",
    "    return mini_index \n",
    "def findcost(n, city): \n",
    "    parent = [None] * n \n",
    "    keyval = [None] * n  \n",
    "    mstset = [None] * n \n",
    "    for i in range(n): \n",
    "        keyval[i] = 9999999999999\n",
    "        mstset[i] = False\n",
    "    parent[0] = -1\n",
    "    keyval[0] = 0\n",
    " \n",
    "\n",
    "    for i in range(n - 1): \n",
    "        u = minnode(n, keyval, mstset)  \n",
    "        mstset[u] = True\n",
    "        for v in range(n): \n",
    "            if (city[u][v] and mstset[v] == False and \n",
    "                city[u][v] < keyval[v]):  \n",
    "                keyval[v] = city[u][v]  \n",
    "                parent[v] = u \n",
    "    cost = 0\n",
    "    for i in range(1, n): \n",
    "        cost += city[parent[i]][i]  \n",
    "    print(cost) \n",
    "\n",
    "\n",
    "\n",
    "def main():\n",
    "\n",
    "\n",
    "    cities=int(input())\n",
    "    n=int(input())\n",
    "\n",
    "    city1=[[0]*cities for i in range(cities)]\n",
    "\n",
    "    for i in range(n):\n",
    "\n",
    "        temp=list(map(int,input().split()))\n",
    "        \n",
    "        city1[temp[0]-1][temp[1]-1]=temp[2]\n",
    "\n",
    "    print(findcost(cities, city1))\n",
    "\n",
    "    print(city1)\n"
   ]
  },
  {
   "cell_type": "code",
   "execution_count": null,
   "metadata": {},
   "outputs": [],
   "source": [
    "class GFG { \n",
    "  \n",
    "   \n",
    "    static int maxSum(int arr[], int n, int k) \n",
    "    { \n",
    "        \n",
    "        if (n < k) { \n",
    "            System.out.println(\"Invalid\"); \n",
    "            return -1; \n",
    "        } \n",
    "        int max_sum = 0; \n",
    "        for (int i = 0; i < k; i++) \n",
    "            max_sum += arr[i]; \n",
    "\n",
    "        int window_sum = max_sum; \n",
    "        for (int i = k; i < n; i++) { \n",
    "            window_sum += arr[i] - arr[i - k]; \n",
    "            max_sum = Math.max(max_sum, window_sum); \n",
    "        } \n",
    "        return max_sum; \n",
    "    } \n",
    "\n",
    "    public static void main(String[] args) \n",
    "    { \n",
    "        int arr[] = { 1, 4, 2, 10, 2, 3, 1, 0, 20 }; \n",
    "        int k = 4; \n",
    "        int n = arr.length; \n",
    "        System.out.println(maxSum(arr, n, k)); \n",
    "    } \n",
    "} \n",
    " "
   ]
  },
  {
   "cell_type": "code",
   "execution_count": null,
   "metadata": {},
   "outputs": [],
   "source": [
    "\n",
    "N = 4\n",
    "\n",
    "def printSolution( sol ): \n",
    "      \n",
    "    for i in sol: \n",
    "        for j in i: \n",
    "            print(str(j) + \" \", end =\"\") \n",
    "            print(\"\") \n",
    "    return \n",
    "  \n",
    "\n",
    "def isSafe( maze, x, y ): \n",
    "      if x >= 0 and x < N and y >= 0 and y < N and maze[x][y] != 0: \n",
    "        return True\n",
    "      return False\n",
    "    \n",
    "def solveMaze( maze ):   \n",
    "    sol = [ [ 0 for j in range(4) ] for i in range(4) ] \n",
    "    if solveMazeUtil(maze, 0, 0, sol) == False: \n",
    "        print(\"Solution doesn't exist\"); \n",
    "        return False\n",
    "    printSolution(sol) \n",
    "    return True\n",
    "\n",
    "def solveMazeUtil(maze, x, y, sol): \n",
    "      \n",
    "    if x == N - 1 and y == N - 1 and maze[x][y]!=0: \n",
    "        sol[x][y] = maze[x][y]\n",
    "        return True\n",
    "          \n",
    "    if isSafe(maze, x, y) == True: \n",
    "        sol[x][y] = maze[x][y]\n",
    " \n",
    "        if solveMazeUtil(maze, x + 1, y, sol) == True: \n",
    "            return True\n",
    "              \n",
    "        if solveMazeUtil(maze, x, y + 1, sol) == True: \n",
    "            return True\n",
    "          \n",
    "        sol[x][y] = 0\n",
    "        return False\n",
    "\n",
    "if __name__ == \"__main__\": \n",
    " \n",
    "    maze = [ [2, 0, 0, 0], \n",
    "             [1, 1, 0, 1], \n",
    "             [0, 1, 1, 0], \n",
    "             [1, 1, 1, 1] ] \n",
    "               \n",
    "    solveMaze(maze) \n",
    "  \n"
   ]
  },
  {
   "cell_type": "code",
   "execution_count": null,
   "metadata": {},
   "outputs": [],
   "source": [
    "\n",
    "\n",
    "global N\n",
    "\n",
    "def printSolution( sol ): \n",
    "    \n",
    "    s=0\n",
    "    for i in sol: \n",
    "        for j in i: \n",
    "            s+=j\n",
    "    \n",
    "    print(s)\n",
    "\n",
    "def isSafe( maze, x, y ): \n",
    "      \n",
    "    if x >= 0 and x < N and y >= 0 and y < N and maze[x][y] != 0: \n",
    "        return True\n",
    "      \n",
    "    return False\n",
    "\n",
    "def solveMaze( maze,N): \n",
    "\n",
    "    sol = [ [ 0 for j in range(N) ] for i in range(N) ] \n",
    "    if solveMazeUtil(maze, 0, 0, sol) == False: \n",
    "        print(\"Solution doesn't exist\"); \n",
    "        return False\n",
    "    printSolution(sol) \n",
    "    return True\n",
    "\n",
    "def solveMazeUtil(maze, x, y, sol): \n",
    "      \n",
    "    if x == N - 1 and y == N - 1 and maze[x][y]!= 0: \n",
    "        sol[x][y] = maze[x][y]\n",
    "        return True\n",
    "\n",
    "    if isSafe(maze, x, y) == True: \n",
    "        sol[x][y] = maze[x][y]\n",
    "        if solveMazeUtil(maze, x + 1, y, sol) == True: \n",
    "            return True\n",
    "        if solveMazeUtil(maze, x, y + 1, sol) == True: \n",
    "            return True\n",
    "        sol[x][y] = 0\n",
    "        return False\n",
    "\n",
    "def main():\n",
    "    \n",
    "\n",
    "    for i in range(N):\n",
    "        temp=list(map(int,input().split()))\n",
    "        maze.append(temp)\n",
    "    solveMaze(maze,N) \n",
    "\n",
    "N=int(input())\n",
    "\n",
    "main()\n"
   ]
  },
  {
   "cell_type": "code",
   "execution_count": 8,
   "metadata": {},
   "outputs": [
    {
     "ename": "IndexError",
     "evalue": "list index out of range",
     "output_type": "error",
     "traceback": [
      "\u001b[0;31m---------------------------------------------------------------------------\u001b[0m",
      "\u001b[0;31mIndexError\u001b[0m                                Traceback (most recent call last)",
      "\u001b[0;32m<ipython-input-8-0b3b27722b01>\u001b[0m in \u001b[0;36m<module>\u001b[0;34m\u001b[0m\n\u001b[1;32m     41\u001b[0m     \u001b[0;32mreturn\u001b[0m \u001b[0mcount\u001b[0m\u001b[0;34m\u001b[0m\u001b[0;34m\u001b[0m\u001b[0m\n\u001b[1;32m     42\u001b[0m \u001b[0;34m\u001b[0m\u001b[0m\n\u001b[0;32m---> 43\u001b[0;31m \u001b[0mprint\u001b[0m\u001b[0;34m(\u001b[0m\u001b[0mppp\u001b[0m\u001b[0;34m(\u001b[0m\u001b[0;36m8\u001b[0m\u001b[0;34m,\u001b[0m\u001b[0;34m[\u001b[0m\u001b[0;36m1\u001b[0m\u001b[0;34m,\u001b[0m\u001b[0;36m2\u001b[0m\u001b[0;34m,\u001b[0m\u001b[0;36m3\u001b[0m\u001b[0;34m,\u001b[0m\u001b[0;36m4\u001b[0m\u001b[0;34m,\u001b[0m\u001b[0;36m8\u001b[0m\u001b[0;34m,\u001b[0m\u001b[0;36m7\u001b[0m\u001b[0;34m,\u001b[0m\u001b[0;36m6\u001b[0m\u001b[0;34m,\u001b[0m\u001b[0;36m5\u001b[0m\u001b[0;34m]\u001b[0m\u001b[0;34m)\u001b[0m\u001b[0;34m)\u001b[0m\u001b[0;34m\u001b[0m\u001b[0;34m\u001b[0m\u001b[0m\n\u001b[0m",
      "\u001b[0;32m<ipython-input-8-0b3b27722b01>\u001b[0m in \u001b[0;36mppp\u001b[0;34m(n, h)\u001b[0m\n\u001b[1;32m     12\u001b[0m \u001b[0;34m\u001b[0m\u001b[0m\n\u001b[1;32m     13\u001b[0m \u001b[0;34m\u001b[0m\u001b[0m\n\u001b[0;32m---> 14\u001b[0;31m         \u001b[0mst\u001b[0m\u001b[0;34m=\u001b[0m\u001b[0mforward\u001b[0m\u001b[0;34m[\u001b[0m\u001b[0;36m0\u001b[0m\u001b[0;34m]\u001b[0m\u001b[0;34m\u001b[0m\u001b[0;34m\u001b[0m\u001b[0m\n\u001b[0m\u001b[1;32m     15\u001b[0m         \u001b[0;32mfor\u001b[0m \u001b[0mi\u001b[0m \u001b[0;32min\u001b[0m \u001b[0mrange\u001b[0m\u001b[0;34m(\u001b[0m\u001b[0mlen\u001b[0m\u001b[0;34m(\u001b[0m\u001b[0mforward\u001b[0m\u001b[0;34m[\u001b[0m\u001b[0;36m1\u001b[0m\u001b[0;34m:\u001b[0m\u001b[0;34m]\u001b[0m\u001b[0;34m)\u001b[0m\u001b[0;34m)\u001b[0m\u001b[0;34m:\u001b[0m\u001b[0;34m\u001b[0m\u001b[0;34m\u001b[0m\u001b[0m\n\u001b[1;32m     16\u001b[0m \u001b[0;34m\u001b[0m\u001b[0m\n",
      "\u001b[0;31mIndexError\u001b[0m: list index out of range"
     ]
    }
   ],
   "source": [
    "\n",
    "def ppp(n,h):\n",
    "    \n",
    "    start=0\n",
    "    end=0\n",
    "    count=0\n",
    "    l=0\n",
    "    forward=h.copy()\n",
    "    fl=0\n",
    "    el=0\n",
    "    reverse=h[::-1]\n",
    "    while fl+el<n:\n",
    "\n",
    "\n",
    "        st=forward[0]\n",
    "        for i in range(len(forward[1:])):\n",
    "            \n",
    "            if st<forward[i]:\n",
    "                \n",
    "                st=forward[i]\n",
    "                continue\n",
    "            else:\n",
    "                count+=1\n",
    "                fl+=len(forward[:i])\n",
    "                forward=forward[:i]\n",
    "                break\n",
    "\n",
    "\n",
    "        if fl+el==n:\n",
    "            break\n",
    "\n",
    "        et=reverse[0]\n",
    "        for i in range(len(reverse[1:])):\n",
    "            if et<reverse[i]:\n",
    "                et=reverse[i]\n",
    "                continue\n",
    "            else:\n",
    "                count+=1\n",
    "                el+=len(forward[:i])\n",
    "                forward=forward[:i]\n",
    "                break\n",
    "    return count\n",
    "\n",
    "print(ppp(8,[1,2,3,4,8,7,6,5]))"
   ]
  },
  {
   "cell_type": "code",
   "execution_count": 24,
   "metadata": {},
   "outputs": [
    {
     "name": "stdin",
     "output_type": "stream",
     "text": [
      " 1\n",
      " 3\n",
      " 111\n",
      " 2\n"
     ]
    },
    {
     "name": "stdout",
     "output_type": "stream",
     "text": [
      "4\n"
     ]
    }
   ],
   "source": [
    "def countofsub(s, K): \n",
    "    N = len(s) \n",
    "    res = 0\n",
    "    countOfOne = 0\n",
    "    freq = [0 for i in range(N + 1)] \n",
    "\n",
    "    freq[0] = 1\n",
    "\n",
    "    for i in range(0, N, 1): \n",
    "\n",
    "        countOfOne += ord(s[i]) - ord('0') \n",
    "\n",
    "        if (countOfOne >= K): \n",
    "\n",
    "            res += freq[countOfOne - K] \n",
    "\n",
    "        freq[countOfOne] += 1\n",
    "      \n",
    "    return res\n",
    "\n",
    "\n",
    "n=int(input())\n",
    "for i in range(n):\n",
    "    a=int(input())\n",
    "    arr=(input())\n",
    "    count=arr.count(\"1\")\n",
    "    k=int(input())\n",
    "    s=0\n",
    "    for i in range(k,count+1):\n",
    "        s+=(countofsub(arr,k))\n",
    "    print(s)"
   ]
  },
  {
   "cell_type": "markdown",
   "metadata": {},
   "source": [
    "# n=int(input())\n",
    "\n",
    "for i in range(n):\n",
    "    \n",
    "    n=int(input())\n",
    "    \n",
    "    if n ==1 or n%2==0:\n",
    "        print(\"A\")\n",
    "    else:\n",
    "        print(\"B\")"
   ]
  },
  {
   "cell_type": "code",
   "execution_count": 7,
   "metadata": {},
   "outputs": [],
   "source": [
    "a=\"1010\"\n",
    "count=a.count(\"1\")"
   ]
  },
  {
   "cell_type": "code",
   "execution_count": 8,
   "metadata": {},
   "outputs": [
    {
     "data": {
      "text/plain": [
       "2"
      ]
     },
     "execution_count": 8,
     "metadata": {},
     "output_type": "execute_result"
    }
   ],
   "source": [
    "count"
   ]
  },
  {
   "cell_type": "code",
   "execution_count": 9,
   "metadata": {},
   "outputs": [
    {
     "ename": "TypeError",
     "evalue": "map() must have at least two arguments.",
     "output_type": "error",
     "traceback": [
      "\u001b[0;31m---------------------------------------------------------------------------\u001b[0m",
      "\u001b[0;31mTypeError\u001b[0m                                 Traceback (most recent call last)",
      "\u001b[0;32m<ipython-input-9-fc74c00e095c>\u001b[0m in \u001b[0;36m<module>\u001b[0;34m\u001b[0m\n\u001b[0;32m----> 1\u001b[0;31m \u001b[0mprint\u001b[0m\u001b[0;34m(\u001b[0m\u001b[0mlen\u001b[0m\u001b[0;34m(\u001b[0m\u001b[0mlist\u001b[0m\u001b[0;34m(\u001b[0m\u001b[0mmap\u001b[0m\u001b[0;34m(\u001b[0m\u001b[0;34m[\u001b[0m\u001b[0mlen\u001b[0m\u001b[0;34m(\u001b[0m\u001b[0;34m\"item\"\u001b[0m\u001b[0;34m)\u001b[0m\u001b[0;34m,\u001b[0m\u001b[0mlen\u001b[0m\u001b[0;34m(\u001b[0m\u001b[0;34m\"item\"\u001b[0m\u001b[0;34m)\u001b[0m\u001b[0;34m,\u001b[0m\u001b[0;36m0\u001b[0m\u001b[0;34m,\u001b[0m\u001b[0;36m2\u001b[0m\u001b[0;34m,\u001b[0m\u001b[0;34m\"item\"\u001b[0m\u001b[0;34m]\u001b[0m\u001b[0;34m)\u001b[0m\u001b[0;34m,\u001b[0m\u001b[0;36m1\u001b[0m\u001b[0;34m)\u001b[0m\u001b[0;34m)\u001b[0m\u001b[0;34m)\u001b[0m\u001b[0;34m\u001b[0m\u001b[0;34m\u001b[0m\u001b[0m\n\u001b[0m",
      "\u001b[0;31mTypeError\u001b[0m: map() must have at least two arguments."
     ]
    }
   ],
   "source": [
    "print(len(list(map([len(\"item\"),len(\"item\"),0,2,\"item\"]),1)))"
   ]
  },
  {
   "cell_type": "code",
   "execution_count": 36,
   "metadata": {},
   "outputs": [
    {
     "name": "stdin",
     "output_type": "stream",
     "text": [
      " 1\n",
      " 2\n",
      " 3\n",
      " 111\n"
     ]
    },
    {
     "ename": "TypeError",
     "evalue": "unsupported operand type(s) for -: 'int' and 'list'",
     "output_type": "error",
     "traceback": [
      "\u001b[0;31m---------------------------------------------------------------------------\u001b[0m",
      "\u001b[0;31mTypeError\u001b[0m                                 Traceback (most recent call last)",
      "\u001b[0;32m<ipython-input-36-7ec8d5d160b2>\u001b[0m in \u001b[0;36m<module>\u001b[0;34m\u001b[0m\n\u001b[1;32m     28\u001b[0m     \u001b[0mk\u001b[0m\u001b[0;34m=\u001b[0m\u001b[0mint\u001b[0m\u001b[0;34m(\u001b[0m\u001b[0minput\u001b[0m\u001b[0;34m(\u001b[0m\u001b[0;34m)\u001b[0m\u001b[0;34m)\u001b[0m\u001b[0;34m\u001b[0m\u001b[0;34m\u001b[0m\u001b[0m\n\u001b[1;32m     29\u001b[0m     \u001b[0ms\u001b[0m\u001b[0;34m=\u001b[0m\u001b[0;36m0\u001b[0m\u001b[0;34m\u001b[0m\u001b[0;34m\u001b[0m\u001b[0m\n\u001b[0;32m---> 30\u001b[0;31m     \u001b[0ms\u001b[0m\u001b[0;34m+=\u001b[0m\u001b[0;34m(\u001b[0m\u001b[0mcountofsub\u001b[0m\u001b[0;34m(\u001b[0m\u001b[0marr\u001b[0m\u001b[0;34m,\u001b[0m\u001b[0mi\u001b[0m\u001b[0;34m)\u001b[0m\u001b[0;34m)\u001b[0m\u001b[0;34m\u001b[0m\u001b[0;34m\u001b[0m\u001b[0m\n\u001b[0m\u001b[1;32m     31\u001b[0m     \u001b[0mprint\u001b[0m\u001b[0;34m(\u001b[0m\u001b[0ms\u001b[0m\u001b[0;34m)\u001b[0m\u001b[0;34m\u001b[0m\u001b[0;34m\u001b[0m\u001b[0m\n",
      "\u001b[0;32m<ipython-input-36-7ec8d5d160b2>\u001b[0m in \u001b[0;36mcountofsub\u001b[0;34m(s, K)\u001b[0m\n\u001b[1;32m     15\u001b[0m         \u001b[0;32mif\u001b[0m \u001b[0;34m(\u001b[0m\u001b[0mcountOfOne\u001b[0m \u001b[0;34m>=\u001b[0m \u001b[0mK\u001b[0m\u001b[0;34m[\u001b[0m\u001b[0;34m-\u001b[0m\u001b[0;36m1\u001b[0m\u001b[0;34m]\u001b[0m \u001b[0;32mor\u001b[0m \u001b[0mcountOfOne\u001b[0m \u001b[0;32min\u001b[0m \u001b[0mK\u001b[0m \u001b[0;34m)\u001b[0m\u001b[0;34m:\u001b[0m\u001b[0;34m\u001b[0m\u001b[0;34m\u001b[0m\u001b[0m\n\u001b[1;32m     16\u001b[0m \u001b[0;34m\u001b[0m\u001b[0m\n\u001b[0;32m---> 17\u001b[0;31m             \u001b[0mres\u001b[0m \u001b[0;34m+=\u001b[0m \u001b[0mfreq\u001b[0m\u001b[0;34m[\u001b[0m\u001b[0mcountOfOne\u001b[0m \u001b[0;34m-\u001b[0m \u001b[0mK\u001b[0m\u001b[0;34m]\u001b[0m\u001b[0;34m\u001b[0m\u001b[0;34m\u001b[0m\u001b[0m\n\u001b[0m\u001b[1;32m     18\u001b[0m \u001b[0;34m\u001b[0m\u001b[0m\n\u001b[1;32m     19\u001b[0m         \u001b[0mfreq\u001b[0m\u001b[0;34m[\u001b[0m\u001b[0mcountOfOne\u001b[0m\u001b[0;34m]\u001b[0m \u001b[0;34m+=\u001b[0m \u001b[0;36m1\u001b[0m\u001b[0;34m\u001b[0m\u001b[0;34m\u001b[0m\u001b[0m\n",
      "\u001b[0;31mTypeError\u001b[0m: unsupported operand type(s) for -: 'int' and 'list'"
     ]
    }
   ],
   "source": [
    "def countofsub(s, K): \n",
    "    N = len(s) \n",
    "    count=arr.count(\"1\")\n",
    "    K=[i for i in range(K,count+1)]\n",
    "    res = 0\n",
    "    countOfOne = 0\n",
    "    freq = [0 for i in range(N + 1)] \n",
    "\n",
    "    freq[0] = 1\n",
    "\n",
    "    for i in range(0, N, 1): \n",
    "          \n",
    "        countOfOne += ord(s[i]) - ord('0') \n",
    "\n",
    "        if (countOfOne >= K[-1] or countOfOne in K ): \n",
    "              \n",
    "            res += freq[countOfOne - K] \n",
    " \n",
    "        freq[countOfOne] += 1\n",
    "      \n",
    "    return res \n",
    "  \n",
    "n=int(input())\n",
    "for i in range(n):\n",
    "    a=int(input())\n",
    "    arr=(input())\n",
    "    count=arr.count(\"1\")\n",
    "    k=int(input())\n",
    "    s=0\n",
    "    s+=(countofsub(arr,i))\n",
    "    print(s)\n",
    "    1e\n",
    "    '/'m"
   ]
  },
  {
   "cell_type": "code",
   "execution_count": 33,
   "metadata": {},
   "outputs": [],
   "source": [
    "a=[i for i in range(k,count)]"
   ]
  },
  {
   "cell_type": "code",
   "execution_count": 34,
   "metadata": {},
   "outputs": [
    {
     "data": {
      "text/plain": [
       "[1, 2]"
      ]
     },
     "execution_count": 34,
     "metadata": {},
     "output_type": "execute_result"
    }
   ],
   "source": [
    "a"
   ]
  },
  {
   "cell_type": "code",
   "execution_count": 23,
   "metadata": {},
   "outputs": [
    {
     "name": "stdin",
     "output_type": "stream",
     "text": [
      " 728x7819 - 72847810 = 9\n"
     ]
    },
    {
     "data": {
      "text/plain": [
       "4"
      ]
     },
     "execution_count": 23,
     "metadata": {},
     "output_type": "execute_result"
    }
   ],
   "source": [
    "def MathChallenge(strParam):\n",
    "    n=strParam\n",
    "\n",
    "    elements=n.split()\n",
    "\n",
    "    operator=elements[1]\n",
    "    equal=elements[3]\n",
    "\n",
    "    if \"x\" in elements:\n",
    "\n",
    "        first=elements[0]\n",
    "        second=elements[2]\n",
    "        third=elements[4]\n",
    "        num=elements.index(\"x\")\n",
    "        if num ==0:\n",
    "\n",
    "            if operator == \"+\":\n",
    "                ans=int(third)-int(second)\n",
    "            elif operator ==\"-\":\n",
    "                ans=int(third)+int(second)\n",
    "            elif operator ==\"*\":\n",
    "                ans=int(third)/int(second)\n",
    "            else:\n",
    "                ans=int(third)*int(second)\n",
    "\n",
    "        elif num==2:\n",
    "\n",
    "            if operator == \"+\":\n",
    "                ans=int(third)-int(first)\n",
    "            elif operator ==\"-\":\n",
    "                ans=int(first)+int(third)\n",
    "            elif operator ==\"*\":\n",
    "                ans=int(third)/int(first)\n",
    "            else:\n",
    "                ans=int(first)*int(third)\n",
    "\n",
    "        else:\n",
    "\n",
    "            if operator == \"+\":\n",
    "                ans=int(first)+int(second)\n",
    "            elif operator ==\"-\":\n",
    "                ans=int(first)-int(second)\n",
    "            elif operator ==\"*\":\n",
    "                ans=int(first)*int(second)\n",
    "            else:\n",
    "                ans=int(first)/int(second)\n",
    "\n",
    "\n",
    "    else:\n",
    "\n",
    "        first=elements[0]\n",
    "        second=elements[2]\n",
    "        third=elements[4]\n",
    "\n",
    "        if \"x\" in first:\n",
    "            if operator == \"+\":\n",
    "                temp=int(third)-int(second)\n",
    "            elif operator ==\"-\":\n",
    "                temp=int(third)+int(second)\n",
    "            elif operator ==\"*\":\n",
    "                temp=int(third)/int(second)\n",
    "            else:\n",
    "                temp=int(third)*int(second)\n",
    "\n",
    "\n",
    "            index=first.index(\"x\")\n",
    "            ans=str(temp)[index]\n",
    "\n",
    "        elif \"x\" in second:\n",
    "            if operator == \"+\":\n",
    "                temp=int(third)-int(first)\n",
    "            elif operator ==\"-\":\n",
    "                temp=int(first)+int(third)\n",
    "            elif operator ==\"*\":\n",
    "                temp=int(third)/int(first)\n",
    "            else:\n",
    "                temp=int(first)*int(third)\n",
    "\n",
    "\n",
    "            index=second.index(\"x\")\n",
    "            ans=str(temp)[index]\n",
    "\n",
    "        else:\n",
    "            if operator == \"+\":\n",
    "                temp=int(first)+int(second)\n",
    "            elif operator ==\"-\":\n",
    "                temp=int(first)-int(second)\n",
    "            elif operator ==\"*\":\n",
    "                temp=int(first)*int(second)\n",
    "            else:\n",
    "                temp=int(first)/int(second)\n",
    "\n",
    "\n",
    "            index=third.index(\"x\")\n",
    "            ans=str(temp)[index]\n",
    "    \n",
    "    return int(ans)\n",
    "        \n",
    "        \n",
    "\n",
    "MathChallenge(input())\n",
    "        "
   ]
  },
  {
   "cell_type": "code",
   "execution_count": 7,
   "metadata": {},
   "outputs": [
    {
     "data": {
      "text/plain": [
       "1"
      ]
     },
     "execution_count": 7,
     "metadata": {},
     "output_type": "execute_result"
    }
   ],
   "source": [
    "s=\"2x\"\n",
    "s.index(\"x\")"
   ]
  },
  {
   "cell_type": "code",
   "execution_count": 17,
   "metadata": {},
   "outputs": [],
   "source": [
    "def MathChallenge(strParam):\n",
    "    n=strParam\n",
    "    print(n.split())"
   ]
  },
  {
   "cell_type": "code",
   "execution_count": 18,
   "metadata": {},
   "outputs": [],
   "source": [
    "a=\"aaaa\"\n",
    "a=a.split()"
   ]
  },
  {
   "cell_type": "code",
   "execution_count": 19,
   "metadata": {},
   "outputs": [
    {
     "data": {
      "text/plain": [
       "['aaaa']"
      ]
     },
     "execution_count": 19,
     "metadata": {},
     "output_type": "execute_result"
    }
   ],
   "source": [
    "a\n"
   ]
  },
  {
   "cell_type": "code",
   "execution_count": 42,
   "metadata": {},
   "outputs": [
    {
     "data": {
      "text/plain": [
       "1"
      ]
     },
     "execution_count": 42,
     "metadata": {},
     "output_type": "execute_result"
    }
   ],
   "source": [
    "\n",
    "def hello(input1,input2):\n",
    "\n",
    "    n=input1\n",
    "\n",
    "    start=0\n",
    "    end=0\n",
    "    flag=False\n",
    "    length=0\n",
    "\n",
    "    for i in range(n):\n",
    "\n",
    "        temp=input2[i]\n",
    "        if not flag:\n",
    "\n",
    "            start=temp[0]\n",
    "            end=temp[1]\n",
    "            flag=True\n",
    "            \n",
    "        else:\n",
    "            if end < temp[0]:\n",
    "                \n",
    "#                 *******\n",
    "                length+=(end-start)\n",
    "                start=temp[0]\n",
    "                end=temp[1]\n",
    "#             ************\n",
    "            \n",
    "            \n",
    "            elif temp[0]<=end and end <=temp[1]:\n",
    "                end=temp[1]\n",
    "            else:\n",
    "                continue\n",
    "    length+=(end-start)\n",
    "    return length\n",
    "\n",
    "hello(1,[[5,6],[6,0]])\n"
   ]
  },
  {
   "cell_type": "code",
   "execution_count": null,
   "metadata": {},
   "outputs": [],
   "source": []
  },
  {
   "cell_type": "code",
   "execution_count": null,
   "metadata": {},
   "outputs": [],
   "source": []
  }
 ],
 "metadata": {
  "kernelspec": {
   "display_name": "Python 3",
   "language": "python",
   "name": "python3"
  },
  "language_info": {
   "codemirror_mode": {
    "name": "ipython",
    "version": 3
   },
   "file_extension": ".py",
   "mimetype": "text/x-python",
   "name": "python",
   "nbconvert_exporter": "python",
   "pygments_lexer": "ipython3",
   "version": "3.8.3"
  }
 },
 "nbformat": 4,
 "nbformat_minor": 4
}
